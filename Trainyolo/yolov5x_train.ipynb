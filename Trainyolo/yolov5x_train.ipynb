{
  "nbformat": 4,
  "nbformat_minor": 0,
  "metadata": {
    "colab": {
      "name": "yolov5x_final",
      "provenance": [],
      "collapsed_sections": []
    },
    "kernelspec": {
      "name": "python3",
      "display_name": "Python 3"
    },
    "language_info": {
      "name": "python"
    }
  },
  "cells": [
    {
      "cell_type": "code",
      "execution_count": null,
      "metadata": {
        "id": "EYKhGepT6CLG"
      },
      "outputs": [],
      "source": [
        "from google.colab import drive\n",
        "drive.mount('/content/drive')"
      ]
    },
    {
      "cell_type": "code",
      "source": [
        "import os\n",
        "import pandas as pd\n",
        "directory = '/content/drive/MyDrive/combined_image_TURE'      # ****이미지 폴더 경로\n",
        "jpg_files = os.listdir(directory)   # 해당폴더에서 파일 가져옴\n",
        "file_name_list_jpg = [os.path.splitext(file)[0] for file in jpg_files if file.endswith(\".jpg\")]# 추가\n",
        "jpg_files_path_list= [\"{}/{}\".format(directory,file) for file in jpg_files if file.endswith(\".jpg\")]\n",
        "\n",
        "directory = '/content/drive/MyDrive/combined_label_TURE'      # ****라벨링 폴더 경로\n",
        "txt_files = os.listdir(directory)   # 해당폴더에서 파일 가져옴\n",
        "file_name_list_txt = [os.path.splitext(file)[0] for file in txt_files if file.endswith(\".txt\")]# 추가\n",
        "txt_files_path_list= [\"{}/{}\".format(directory,file) for file in txt_files if file.endswith(\".txt\")]\n",
        "\n",
        "# 텍스트 데이터프레임 \n",
        "df_txt = pd.DataFrame(zip(file_name_list_txt,txt_files_path_list),\n",
        "                          columns=['file_name','txt_files_paths'])\n",
        "# 이미지 데이터프레임 \n",
        "df_jpg = pd.DataFrame(zip(file_name_list_jpg,jpg_files_path_list),\n",
        "                 columns=['file_name','jpg_files_paths'])\n",
        "\n",
        "total_path_df = pd.merge(left = df_txt , right = df_jpg, how = \"inner\", on = \"file_name\")\n",
        "\n",
        "# total_path_df 확인\n",
        "pd.set_option(\"display.max_colwidth\", 200)\n",
        "total_path_df"
      ],
      "metadata": {
        "id": "x8fBd17367kZ"
      },
      "execution_count": null,
      "outputs": []
    },
    {
      "cell_type": "code",
      "source": [
        "%cd /content\n",
        "!git clone https://github.com/ultralytics/yolov5.git  # github에서 yolov5 불러옴(pytorch기반)"
      ],
      "metadata": {
        "id": "TWv_u0097Y17"
      },
      "execution_count": null,
      "outputs": []
    },
    {
      "cell_type": "code",
      "source": [
        "%cd /content/yolov5/\n",
        "!pip install -r requirements.txt # requirements.txt: 설치할 패키지 관리\n",
        "                                 #  pip list를 입력하면 다음과 같이 pip으로 설치된 모든 패키지가 나옴\n",
        "                                 # 이 패키지들을 그대로 다른 환경에서 설치하고 싶을땐 어떻게하면 좋을까?\n",
        "                                 # 일일이 손으로 타이핑하기엔 너무 귀찮을 것 같다.\n",
        "                                 # requirements.txt는 이러한 패키지 목록이 나열되어있는 텍스트 파일이다."
      ],
      "metadata": {
        "id": "MFaqQSrI7agJ"
      },
      "execution_count": null,
      "outputs": []
    },
    {
      "cell_type": "code",
      "source": [
        "%mkdir /content/dataset\n",
        "%mkdir /content/dataset/images\n",
        "%mkdir /content/dataset/labels\n",
        "\n",
        "import shutil\n",
        "# yaml(이미지/라벨링경로, class_id에 대한 정보가 저장되어있음)\n",
        "shutil.copy(\"/content/drive/MyDrive/멀티캠퍼스/project/custom_1.yaml\",\"/content/dataset\") # class, test, val에 대한 데이터 들어있음  \n",
        "%cat /content/dataset/custom_1.yaml\n",
        "\n",
        "# images 폴더로 모으기\n",
        "import shutil\n",
        "for path in total_path_df['jpg_files_paths']:\n",
        "  jpg_origin = path\n",
        "  total_jpg_file = (path.split(\"/\"))[-1]\n",
        "  jpg_copy = \"/content/dataset/images/\" + total_jpg_file\n",
        "  shutil.copy(jpg_origin,jpg_copy)\n",
        "\n",
        "# labels 폴더로 모으기\n",
        "for path in total_path_df['txt_files_paths']:\n",
        "  txt_origin = path\n",
        "  total_txt_file = (path.split(\"/\"))[-1]\n",
        "  txt_copy = \"/content/dataset/labels/\" + total_txt_file\n",
        "  shutil.copy(txt_origin,txt_copy)\n",
        "\n",
        "%cd /\n",
        "from glob import glob # 파이썬에서 디렉토리 내의 파일과 폴더의 이름들을 리스트로 모아서 반환받을 수 있는 glob.glob\n",
        "\n",
        "img_list = glob('/content/dataset/images/*.jpg')  # 폴더에 있는 이미지 파일이름 리스트로 모아서 반환\n",
        "print(len(img_list))\n",
        "\n",
        "from sklearn.model_selection import train_test_split\n",
        "\n",
        "train_img_list, val_img_list = train_test_split(img_list, test_size=0.2, random_state=2000)\n",
        "print(len(train_img_list), len(val_img_list))\n",
        "\n",
        "with open('/content/dataset/train.txt', 'w') as f:  #  train 이미지 리스트 train.txt파일 생성\n",
        "  f.write('\\n'.join(train_img_list) + '\\n')\n",
        "with open('/content/dataset/val.txt', 'w') as f:    #  val 이미지 리스트 train.txt파일 생성\n",
        "  f.write('\\n'.join(val_img_list) + '\\n')\n",
        "\n",
        "import yaml\n",
        "\n",
        "with open('/content/dataset/custom_1.yaml', 'r') as f:\n",
        "  data = yaml.safe_load(f)          # yaml.load는 문자열을 파이썬데이터로 바꾸어줌\n",
        "\n",
        "print(data)   # train(train.txt 경로), val(val.txt 경로), nc(클래스 수), names(클래스 이름)에 대한 정보 보여줌\n",
        "\n",
        "data['train'] = '/content/dataset/train.txt' # train.txt 경로 지정\n",
        "data['val'] = '/content/dataset/val.txt'     # val.txt 경로 지정\n",
        "\n",
        "with open('/content/dataset/custom_1.yaml', 'w') as f:\n",
        "  yaml.dump(data, f)  # yaml.dump는 파이썬데이터를 yaml형태로 바꾸어줌\n",
        "\n",
        "print(data)"
      ],
      "metadata": {
        "id": "YyM8UkjG7dIv"
      },
      "execution_count": null,
      "outputs": []
    },
    {
      "cell_type": "code",
      "source": [
        "%cd /content/yolov5/\n",
        "# 모델 훈련\n",
        "!python train.py --img 416 --batch 32 --epochs 50 --data /content/dataset/custom_1.yaml --cfg ./models/yolov5x.yaml --weights yolov5x.pt  --name gun_yolov5x_results # --evolve: hyper"
      ],
      "metadata": {
        "id": "jVgiewxN8RBW"
      },
      "execution_count": null,
      "outputs": []
    },
    {
      "cell_type": "code",
      "source": [
        "# 성능 평가\n",
        "%load_ext tensorboard\n",
        "%tensorboard --logdir /content/yolov5/runs/"
      ],
      "metadata": {
        "id": "SNW7xawx8SIZ"
      },
      "execution_count": null,
      "outputs": []
    },
    {
      "cell_type": "code",
      "source": [
        "import os\n",
        "%cd /content/yolov5/runs/train/\n",
        "os.rename(\"gun_yolov5x_results\",\"exp0_gun_yolov5x_results\")\n",
        "shutil.move(\"/content/yolov5/runs/train/exp0_gun_yolov5x_results\", \"/content/yolov5/runs/\")\n",
        "%cd /content/yolov5/runs/exp0_gun_yolov5x_results//weights/\n",
        "os.rename(\"best.pt\",\"best_gun_yolov5x_results.pt\")"
      ],
      "metadata": {
        "id": "OiTs4qXr8XTI"
      },
      "execution_count": null,
      "outputs": []
    },
    {
      "cell_type": "code",
      "source": [
        "from IPython.display import Image\n",
        "import os\n",
        "\n",
        "val_img_path = val_img_list[4]\n",
        "%cd /content/yolov5/\n",
        "# 객체 탐지\n",
        "!python detect.py --weights /content/yolov5/runs/exp0_gun_yolov5x_results/weights/best_gun_yolov5x_results.pt --img 416 --conf 0.5 --save-txt --source \"{val_img_path}\" # 추가내용 --save-txt : 예측좌표"
      ],
      "metadata": {
        "id": "YhpPN1zy8Z7c"
      },
      "execution_count": null,
      "outputs": []
    },
    {
      "cell_type": "code",
      "source": [
        "# 객체 결과 이미지 확인\n",
        "Image(os.path.join('/content/yolov5/runs/detect/exp', os.path.basename(val_img_path)))"
      ],
      "metadata": {
        "id": "nwtGA3238cPZ"
      },
      "execution_count": null,
      "outputs": []
    }
  ]
}
